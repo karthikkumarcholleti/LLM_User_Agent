{
 "cells": [
  {
   "cell_type": "code",
   "execution_count": 2,
   "id": "9921323a-d223-47f1-92e9-83c33f82f526",
   "metadata": {},
   "outputs": [
    {
     "name": "stdout",
     "output_type": "stream",
     "text": [
      "Final cleaned CSV saved as: patient_observations_1_cleaned_v2_final.csv\n"
     ]
    }
   ],
   "source": [
    "import os\n",
    "import json\n",
    "import pandas as pd\n",
    "from zipfile import ZipFile\n",
    "\n",
    "# === Step 1: Extract FHIR JSONs (Converted by name.zip)\n",
    "zip_path = \"/home/user/Desktop/LLM_UA_Test Files/LLM_UA_Test Files/Structured Data/CCDA/Converted by name.zip\"\n",
    "extract_path = \"extracted_fhir_jsons\"\n",
    "with ZipFile(zip_path, 'r') as zip_ref:\n",
    "    zip_ref.extractall(extract_path)\n",
    "\n",
    "# === Step 2: Build LOINC Code - Display Name mapping from JSONs\n",
    "loinc_display_map = {}\n",
    "for root, _, files in os.walk(extract_path):\n",
    "    for file in files:\n",
    "        if file.endswith(\".json\"):\n",
    "            try:\n",
    "                with open(os.path.join(root, file), 'r') as f:\n",
    "                    bundle = json.load(f)\n",
    "                for entry in bundle.get(\"entry\", []):\n",
    "                    resource = entry.get(\"resource\", {})\n",
    "                    if resource.get(\"resourceType\") == \"Observation\":\n",
    "                        for coding in resource.get(\"code\", {}).get(\"coding\", []):\n",
    "                            if \"loinc.org\" in coding.get(\"system\", \"\"):\n",
    "                                code = coding.get(\"code\", \"\").strip()\n",
    "                                display = coding.get(\"display\", \"\").strip()\n",
    "                                if code and display and display.lower() != \"unknown\":\n",
    "                                    loinc_display_map[code] = display\n",
    "            except:\n",
    "                continue\n",
    "\n",
    "# === Step 3: Clean the V2 file using corrected LOINC display names\n",
    "df_v2 = pd.read_csv(\"patient_observations_1_cleaned_v2.csv\")\n",
    "\n",
    "# Replace bad display names\n",
    "def fix_display_name(row):\n",
    "    code = str(row[\"LOINC Code\"]).strip()\n",
    "    name = str(row[\"Display Name\"]).strip().lower()\n",
    "    if name in [\"unknown\", \"nan\", \"\", \"bp systolic\", \"bp diastolic\", \n",
    "                \"bmi (body mass index)\", \"body weight measured\", \"body height measured\",\n",
    "                \"oxygen saturation by pulse oximetry\", \"respiratory rate\"]:\n",
    "        return loinc_display_map.get(code, row[\"Display Name\"])\n",
    "    return row[\"Display Name\"]\n",
    "\n",
    "df_v2[\"Display Name\"] = df_v2.apply(fix_display_name, axis=1)\n",
    "\n",
    "# === Step 4: Save the final cleaned file\n",
    "df_v2.to_csv(\"patient_observations_1_cleaned_v2_final.csv\", index=False)\n",
    "print(\"Final cleaned CSV saved as: patient_observations_1_cleaned_v2_final.csv\")\n",
    "\n",
    "\n",
    "\n"
   ]
  },
  {
   "cell_type": "code",
   "execution_count": 3,
   "id": "9c4faa87-5a31-4f62-b292-97befbeb3c59",
   "metadata": {},
   "outputs": [
    {
     "name": "stdout",
     "output_type": "stream",
     "text": [
      "All files updated with corrected Display Names and saved to cleaned_patients_v3/\n"
     ]
    }
   ],
   "source": [
    "import os\n",
    "import json\n",
    "import pandas as pd\n",
    "\n",
    "# === Step 1: Load the cleaned CSV with corrected Display Names\n",
    "csv_path = \"/home/user/Desktop/LLM_UA_Test Files/LLM_UA_Test Files/Structured Data/CCDA/patient_observations_1_cleaned_v2_final.csv\"\n",
    "df = pd.read_csv(csv_path)\n",
    "\n",
    "# Build a mapping from LOINC Code → Display Name\n",
    "loinc_to_display = dict(zip(df[\"LOINC Code\"].astype(str), df[\"Display Name\"]))\n",
    "\n",
    "# === Step 2: Set input and output folders\n",
    "source_dir = \"/home/user/Desktop/LLM_UA_Test Files/LLM_UA_Test Files/Structured Data/CCDA/cleaned_patients_v2\"\n",
    "output_dir = \"/home/user/Desktop/LLM_UA_Test Files/LLM_UA_Test Files/Structured Data/CCDA/cleaned_patients_v3\"\n",
    "os.makedirs(output_dir, exist_ok=True)\n",
    "\n",
    "# === Step 3: Update JSONs with fixed Display Names\n",
    "for filename in os.listdir(source_dir):\n",
    "    if not filename.endswith(\".json\"):\n",
    "        continue\n",
    "\n",
    "    file_path = os.path.join(source_dir, filename)\n",
    "    with open(file_path, \"r\") as f:\n",
    "        patient = json.load(f)\n",
    "\n",
    "    for obs in patient.get(\"observations\", []):\n",
    "        code = str(obs.get(\"code\", \"\")).strip()\n",
    "        if code in loinc_to_display and loinc_to_display[code]:\n",
    "            obs[\"description\"] = loinc_to_display[code]\n",
    "\n",
    "    # Save to V3 output\n",
    "    out_path = os.path.join(output_dir, filename)\n",
    "    with open(out_path, \"w\") as f:\n",
    "        json.dump(patient, f, indent=2)\n",
    "\n",
    "print(\"All files updated with corrected Display Names and saved to cleaned_patients_v3/\")\n",
    "\n",
    "\n"
   ]
  },
  {
   "cell_type": "code",
   "execution_count": null,
   "id": "720306bb-65d8-46ab-8091-e5a0e15693d2",
   "metadata": {},
   "outputs": [],
   "source": []
  }
 ],
 "metadata": {
  "kernelspec": {
   "display_name": "Python 3 (ipykernel)",
   "language": "python",
   "name": "python3"
  },
  "language_info": {
   "codemirror_mode": {
    "name": "ipython",
    "version": 3
   },
   "file_extension": ".py",
   "mimetype": "text/x-python",
   "name": "python",
   "nbconvert_exporter": "python",
   "pygments_lexer": "ipython3",
   "version": "3.11.9"
  }
 },
 "nbformat": 4,
 "nbformat_minor": 5
}
