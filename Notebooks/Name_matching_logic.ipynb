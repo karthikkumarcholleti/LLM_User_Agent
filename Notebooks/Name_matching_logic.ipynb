{
 "cells": [
  {
   "cell_type": "markdown",
   "id": "2f9e8ffd-8201-43d5-8307-6b2c2898f907",
   "metadata": {},
   "source": [
    "### Matched the patients names into one common name**\n",
    "\n",
    "As there are three different files i.e ADT, CCDA, ORU and each of the file has names of the same patients in different format. This logic helps us to create a common name which helps the model to extract all the available information from their folder"
   ]
  },
  {
   "cell_type": "code",
   "execution_count": null,
   "id": "707fbac0-dab6-4252-a59b-eea1462c1065",
   "metadata": {},
   "outputs": [],
   "source": []
  },
  {
   "cell_type": "code",
   "execution_count": 2,
   "id": "35b7f47e-d40c-4ff1-a3f0-420df198dc65",
   "metadata": {},
   "outputs": [],
   "source": [
    "import os\n",
    "import json\n",
    "import pandas as pd\n",
    "from transformers import AutoTokenizer, AutoModelForCausalLM, pipeline\n"
   ]
  },
  {
   "cell_type": "code",
   "execution_count": 3,
   "id": "66d2b346-8acc-47b3-a9e0-cb28c940152d",
   "metadata": {},
   "outputs": [],
   "source": [
    "#Folder paths"
   ]
  },
  {
   "cell_type": "code",
   "execution_count": 4,
   "id": "98a0e6c6-11a8-418c-9b5a-1ecccd2a2ff6",
   "metadata": {},
   "outputs": [],
   "source": [
    "adt_base_path = \"/home/user/Desktop/LLM_UA_Test Files/LLM_UA_Test Files/Structured Data/ADT/Converted by Name\"\n",
    "ccda_base_path = \"/home/user/Desktop/LLM_UA_Test Files/LLM_UA_Test Files/Structured Data/CCDA/Converted by name\"\n",
    "oru_base_path  = \"/home/user/Desktop/LLM_UA_Test Files/LLM_UA_Test Files/Structured Data/ORU/Converted by Name\"\n",
    "output_dir = \"./patient_summaries\"\n",
    "os.makedirs(output_dir, exist_ok=True)\n"
   ]
  },
  {
   "cell_type": "code",
   "execution_count": 5,
   "id": "27813e1a-a98f-4764-a9d2-cc41dde4197c",
   "metadata": {},
   "outputs": [],
   "source": [
    "#Name Matching Logic"
   ]
  },
  {
   "cell_type": "code",
   "execution_count": 6,
   "id": "d63a40d3-a4f1-40b1-8914-52963de32e25",
   "metadata": {},
   "outputs": [],
   "source": [
    "def tokenize(name):\n",
    "    return tuple(sorted(name.lower().replace(\"_mi\", \"\").replace(\"_\", \" \").strip().split()))\n",
    "\n",
    "adt_tokens = {tokenize(name): name for name in os.listdir(adt_base_path)}\n",
    "ccda_tokens = {tokenize(name): name for name in os.listdir(ccda_base_path)}\n",
    "oru_tokens  = {tokenize(name): name for name in os.listdir(oru_base_path)}\n",
    "\n",
    "refined_matches = []\n",
    "for key in adt_tokens:\n",
    "    if key in ccda_tokens and key in oru_tokens:\n",
    "        refined_matches.append({\n",
    "            \"key\": key,\n",
    "            \"ADT\": adt_tokens[key],\n",
    "            \"CCDA\": ccda_tokens[key],\n",
    "            \"ORU\": oru_tokens[key]\n",
    "        })\n",
    "\n",
    "matched_df = pd.DataFrame(refined_matches)\n"
   ]
  },
  {
   "cell_type": "code",
   "execution_count": 7,
   "id": "717ae33a-a32f-4658-90e7-9ccc6a567dc5",
   "metadata": {},
   "outputs": [],
   "source": [
    "# Select for example \"Alice_Holmes\""
   ]
  },
  {
   "cell_type": "code",
   "execution_count": 8,
   "id": "c3e3721b-0e14-474f-b13a-fe47b2932c50",
   "metadata": {},
   "outputs": [
    {
     "name": "stdout",
     "output_type": "stream",
     "text": [
      " Matched folders for 'alice_holmes':\n",
      "  ADT  = Alice_Holmes\n",
      "  CCDA = Holmes_Alice\n",
      "  ORU  = Holmes_Alice_MI\n"
     ]
    }
   ],
   "source": [
    "target_name = \"alice_holmes\"\n",
    "target_key = tokenize(target_name)\n",
    "\n",
    "alice_row = matched_df[matched_df[\"key\"] == target_key].iloc[0]\n",
    "patient_adt = alice_row[\"ADT\"]\n",
    "patient_ccda = alice_row[\"CCDA\"]\n",
    "patient_oru = alice_row[\"ORU\"]\n",
    "\n",
    "print(f\" Matched folders for '{target_name}':\")\n",
    "print(f\"  ADT  = {patient_adt}\")\n",
    "print(f\"  CCDA = {patient_ccda}\")\n",
    "print(f\"  ORU  = {patient_oru}\")\n"
   ]
  }
 ],
 "metadata": {
  "kernelspec": {
   "display_name": "Python 3 (ipykernel)",
   "language": "python",
   "name": "python3"
  },
  "language_info": {
   "codemirror_mode": {
    "name": "ipython",
    "version": 3
   },
   "file_extension": ".py",
   "mimetype": "text/x-python",
   "name": "python",
   "nbconvert_exporter": "python",
   "pygments_lexer": "ipython3",
   "version": "3.11.9"
  }
 },
 "nbformat": 4,
 "nbformat_minor": 5
}
