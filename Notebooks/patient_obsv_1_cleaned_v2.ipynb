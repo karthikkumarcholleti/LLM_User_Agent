{
 "cells": [
  {
   "cell_type": "code",
   "execution_count": 3,
   "id": "d0f99eef-e1f0-4a69-a60e-708c387372fb",
   "metadata": {},
   "outputs": [
    {
     "name": "stdout",
     "output_type": "stream",
     "text": [
      "Cleaned CSV saved as patient_observations_1_cleaned_v2.csv\n"
     ]
    }
   ],
   "source": [
    "import pandas as pd\n",
    "\n",
    "# Step 1: Load  files\n",
    "df_obs = pd.read_csv(\"/home/user/Desktop/LLM_UA_Test Files/LLM_UA_Test Files/Structured Data/CCDA/patient_observations_1.csv\")\n",
    "df_loinc = pd.read_csv(\"/home/user/Desktop/LLM_UA_Test Files/LLM_UA_Test Files/Structured Data/CCDA/loinc_code_display_mapping_updated.csv\")\n",
    "\n",
    "# Step 2: Build dictionary { LOINC Code - Display Value }\n",
    "loinc_dict = dict(zip(\n",
    "    df_loinc[\"LOINC Code\"].astype(str).str.strip(),\n",
    "    df_loinc[\"Display Value\"].astype(str).str.strip()\n",
    "))\n",
    "\n",
    "# Step 3: Fix missing or \"Unknown\" display names\n",
    "def fix_display_name(row):\n",
    "    name = str(row[\"Display Name\"]).strip().lower()\n",
    "    code = str(row[\"LOINC Code\"]).strip()\n",
    "\n",
    "    if name in [\"unknown\", \"\", \"nan\"] or pd.isna(name):\n",
    "        return loinc_dict.get(code, \"Unknown Observation\")\n",
    "    return row[\"Display Name\"]\n",
    "\n",
    "df_obs[\"Display Name\"] = df_obs.apply(fix_display_name, axis=1)\n",
    "\n",
    "# Step 4: Save cleaned version\n",
    "df_obs.to_csv(\"patient_observations_1_cleaned_v2.csv\", index=False)\n",
    "print(\"Cleaned CSV saved as patient_observations_1_cleaned_v2.csv\")\n",
    "\n",
    "\n",
    "\n"
   ]
  },
  {
   "cell_type": "markdown",
   "id": "8a12fbee-b1c2-4ec4-ae57-a00ad3dabd23",
   "metadata": {},
   "source": [
    "#### This csv is used by the CCDA_cleaned.ipynb to store the cleaned CCDA files.\n"
   ]
  },
  {
   "cell_type": "code",
   "execution_count": null,
   "id": "f3b1cb87-36ae-4eba-b72d-8e43b77b6acf",
   "metadata": {},
   "outputs": [],
   "source": []
  }
 ],
 "metadata": {
  "kernelspec": {
   "display_name": "Python 3 (ipykernel)",
   "language": "python",
   "name": "python3"
  },
  "language_info": {
   "codemirror_mode": {
    "name": "ipython",
    "version": 3
   },
   "file_extension": ".py",
   "mimetype": "text/x-python",
   "name": "python",
   "nbconvert_exporter": "python",
   "pygments_lexer": "ipython3",
   "version": "3.11.9"
  }
 },
 "nbformat": 4,
 "nbformat_minor": 5
}
